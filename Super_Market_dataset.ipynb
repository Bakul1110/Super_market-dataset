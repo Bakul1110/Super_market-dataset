{
 "cells": [
  {
   "cell_type": "markdown",
   "id": "fec25879",
   "metadata": {},
   "source": [
    "#                            EDA on Super Market Dataset"
   ]
  },
  {
   "cell_type": "markdown",
   "id": "16470db7",
   "metadata": {},
   "source": [
    "This EDA will be on the supermarket dataset where we will try to deal with some business related problem \n",
    "statements.\n",
    "\n",
    "__Is  supermarket more popular with males or females?__ \n",
    "\n",
    "__What does the customer rating look like and  its skewness?__ \n",
    "\n",
    "__About the aggregate sales across the branches.__\n",
    "\n",
    "__Most popular payment method used by customers.__\n",
    "\n",
    "After that we will dig deep and then will try to solve more such problems like:\n",
    "\n",
    "__Does gross income affect customer ratings?__ \n",
    "\n",
    "__Which is the most profitable branch?__ \n",
    "\n",
    "__How is the relationship between Gender and Gross income?__ \n",
    "\n",
    "__Time trend in gross income?__ \n",
    "\n",
    "__Which product line helps you generate the most income?__ \n",
    "\n",
    "__What is the spending pattern of both males and females, meaning in which category do they spend more?__ \n",
    "\n",
    "__How many products are bought by customers?__\n",
    "\n",
    "__Which day of the week has maximum sales?__ \n",
    "\n",
    "__Which hour of the day is busiest?__ \n",
    "\n",
    "__Which product line should your supermarket focus on?__ \n",
    "\n",
    "__Which city should be chosen for expansion and what products should be focussed on?__"
   ]
  },
  {
   "cell_type": "markdown",
   "id": "1cced261",
   "metadata": {},
   "source": [
    "__So let's get our hands dirty with the data and get some meaningful insights from it....__"
   ]
  },
  {
   "cell_type": "markdown",
   "id": "d107f2fe",
   "metadata": {},
   "source": [
    "# Data set loading and Overview of the dataset"
   ]
  },
  {
   "cell_type": "markdown",
   "id": "dc76de9a",
   "metadata": {},
   "source": [
    "*Before loading the dataset we will first import some necessary libraries that will be required for further analysis*"
   ]
  },
  {
   "cell_type": "code",
   "execution_count": 1,
   "id": "ca0685f2",
   "metadata": {},
   "outputs": [],
   "source": [
    "#importing libraries\n",
    "import pandas as pd\n",
    "import numpy as np\n",
    "from matplotlib import pyplot as plt\n",
    "import seaborn as sns\n"
   ]
  },
  {
   "cell_type": "code",
   "execution_count": 2,
   "id": "244c38f4",
   "metadata": {},
   "outputs": [
    {
     "data": {
      "text/html": [
       "<div>\n",
       "<style scoped>\n",
       "    .dataframe tbody tr th:only-of-type {\n",
       "        vertical-align: middle;\n",
       "    }\n",
       "\n",
       "    .dataframe tbody tr th {\n",
       "        vertical-align: top;\n",
       "    }\n",
       "\n",
       "    .dataframe thead th {\n",
       "        text-align: right;\n",
       "    }\n",
       "</style>\n",
       "<table border=\"1\" class=\"dataframe\">\n",
       "  <thead>\n",
       "    <tr style=\"text-align: right;\">\n",
       "      <th></th>\n",
       "      <th>Invoice ID</th>\n",
       "      <th>Branch</th>\n",
       "      <th>City</th>\n",
       "      <th>Customer type</th>\n",
       "      <th>Gender</th>\n",
       "      <th>Product line</th>\n",
       "      <th>Unit price</th>\n",
       "      <th>Quantity</th>\n",
       "      <th>Tax 5%</th>\n",
       "      <th>Total</th>\n",
       "      <th>Date</th>\n",
       "      <th>Time</th>\n",
       "      <th>Payment</th>\n",
       "      <th>cogs</th>\n",
       "      <th>gross margin percentage</th>\n",
       "      <th>gross income</th>\n",
       "      <th>Rating</th>\n",
       "    </tr>\n",
       "  </thead>\n",
       "  <tbody>\n",
       "    <tr>\n",
       "      <th>0</th>\n",
       "      <td>750-67-8428</td>\n",
       "      <td>A</td>\n",
       "      <td>Yangon</td>\n",
       "      <td>Member</td>\n",
       "      <td>Female</td>\n",
       "      <td>Health and beauty</td>\n",
       "      <td>74.69</td>\n",
       "      <td>7</td>\n",
       "      <td>26.1415</td>\n",
       "      <td>548.9715</td>\n",
       "      <td>1/5/2019</td>\n",
       "      <td>13:08</td>\n",
       "      <td>Ewallet</td>\n",
       "      <td>522.83</td>\n",
       "      <td>4.761905</td>\n",
       "      <td>26.1415</td>\n",
       "      <td>9.1</td>\n",
       "    </tr>\n",
       "    <tr>\n",
       "      <th>1</th>\n",
       "      <td>226-31-3081</td>\n",
       "      <td>C</td>\n",
       "      <td>Naypyitaw</td>\n",
       "      <td>Normal</td>\n",
       "      <td>Female</td>\n",
       "      <td>Electronic accessories</td>\n",
       "      <td>15.28</td>\n",
       "      <td>5</td>\n",
       "      <td>3.8200</td>\n",
       "      <td>80.2200</td>\n",
       "      <td>3/8/2019</td>\n",
       "      <td>10:29</td>\n",
       "      <td>Cash</td>\n",
       "      <td>76.40</td>\n",
       "      <td>4.761905</td>\n",
       "      <td>3.8200</td>\n",
       "      <td>9.6</td>\n",
       "    </tr>\n",
       "    <tr>\n",
       "      <th>2</th>\n",
       "      <td>631-41-3108</td>\n",
       "      <td>A</td>\n",
       "      <td>Yangon</td>\n",
       "      <td>Normal</td>\n",
       "      <td>Male</td>\n",
       "      <td>Home and lifestyle</td>\n",
       "      <td>46.33</td>\n",
       "      <td>7</td>\n",
       "      <td>16.2155</td>\n",
       "      <td>340.5255</td>\n",
       "      <td>3/3/2019</td>\n",
       "      <td>13:23</td>\n",
       "      <td>Credit card</td>\n",
       "      <td>324.31</td>\n",
       "      <td>4.761905</td>\n",
       "      <td>16.2155</td>\n",
       "      <td>7.4</td>\n",
       "    </tr>\n",
       "    <tr>\n",
       "      <th>3</th>\n",
       "      <td>123-19-1176</td>\n",
       "      <td>A</td>\n",
       "      <td>Yangon</td>\n",
       "      <td>Member</td>\n",
       "      <td>Male</td>\n",
       "      <td>Health and beauty</td>\n",
       "      <td>58.22</td>\n",
       "      <td>8</td>\n",
       "      <td>23.2880</td>\n",
       "      <td>489.0480</td>\n",
       "      <td>1/27/2019</td>\n",
       "      <td>20:33</td>\n",
       "      <td>Ewallet</td>\n",
       "      <td>465.76</td>\n",
       "      <td>4.761905</td>\n",
       "      <td>23.2880</td>\n",
       "      <td>8.4</td>\n",
       "    </tr>\n",
       "    <tr>\n",
       "      <th>4</th>\n",
       "      <td>373-73-7910</td>\n",
       "      <td>A</td>\n",
       "      <td>Yangon</td>\n",
       "      <td>Normal</td>\n",
       "      <td>Male</td>\n",
       "      <td>Sports and travel</td>\n",
       "      <td>86.31</td>\n",
       "      <td>7</td>\n",
       "      <td>30.2085</td>\n",
       "      <td>634.3785</td>\n",
       "      <td>2/8/2019</td>\n",
       "      <td>10:37</td>\n",
       "      <td>Ewallet</td>\n",
       "      <td>604.17</td>\n",
       "      <td>4.761905</td>\n",
       "      <td>30.2085</td>\n",
       "      <td>5.3</td>\n",
       "    </tr>\n",
       "  </tbody>\n",
       "</table>\n",
       "</div>"
      ],
      "text/plain": [
       "    Invoice ID Branch       City Customer type  Gender  \\\n",
       "0  750-67-8428      A     Yangon        Member  Female   \n",
       "1  226-31-3081      C  Naypyitaw        Normal  Female   \n",
       "2  631-41-3108      A     Yangon        Normal    Male   \n",
       "3  123-19-1176      A     Yangon        Member    Male   \n",
       "4  373-73-7910      A     Yangon        Normal    Male   \n",
       "\n",
       "             Product line  Unit price  Quantity   Tax 5%     Total       Date  \\\n",
       "0       Health and beauty       74.69         7  26.1415  548.9715   1/5/2019   \n",
       "1  Electronic accessories       15.28         5   3.8200   80.2200   3/8/2019   \n",
       "2      Home and lifestyle       46.33         7  16.2155  340.5255   3/3/2019   \n",
       "3       Health and beauty       58.22         8  23.2880  489.0480  1/27/2019   \n",
       "4       Sports and travel       86.31         7  30.2085  634.3785   2/8/2019   \n",
       "\n",
       "    Time      Payment    cogs  gross margin percentage  gross income  Rating  \n",
       "0  13:08      Ewallet  522.83                 4.761905       26.1415     9.1  \n",
       "1  10:29         Cash   76.40                 4.761905        3.8200     9.6  \n",
       "2  13:23  Credit card  324.31                 4.761905       16.2155     7.4  \n",
       "3  20:33      Ewallet  465.76                 4.761905       23.2880     8.4  \n",
       "4  10:37      Ewallet  604.17                 4.761905       30.2085     5.3  "
      ]
     },
     "execution_count": 2,
     "metadata": {},
     "output_type": "execute_result"
    }
   ],
   "source": [
    "#Loading the dataset\n",
    "\n",
    "supermart = pd.read_csv(\"supermarket_sales (1).csv\")\n",
    "supermart.head()"
   ]
  },
  {
   "cell_type": "code",
   "execution_count": null,
   "id": "f9273921",
   "metadata": {},
   "outputs": [],
   "source": []
  },
  {
   "cell_type": "code",
   "execution_count": 3,
   "id": "344da827",
   "metadata": {},
   "outputs": [
    {
     "data": {
      "text/plain": [
       "(1000, 17)"
      ]
     },
     "execution_count": 3,
     "metadata": {},
     "output_type": "execute_result"
    }
   ],
   "source": [
    "#We will find the shape of the dataset using this function to get the number of rows and columns present\n",
    "\n",
    "supermart.shape"
   ]
  },
  {
   "cell_type": "markdown",
   "id": "92cb4344",
   "metadata": {},
   "source": [
    "__It's time to get the 5 point summary of the dataset that what exactly we are going  to deal with.__"
   ]
  },
  {
   "cell_type": "code",
   "execution_count": 4,
   "id": "3638a8db",
   "metadata": {},
   "outputs": [
    {
     "name": "stdout",
     "output_type": "stream",
     "text": [
      "<class 'pandas.core.frame.DataFrame'>\n",
      "RangeIndex: 1000 entries, 0 to 999\n",
      "Data columns (total 17 columns):\n",
      " #   Column                   Non-Null Count  Dtype  \n",
      "---  ------                   --------------  -----  \n",
      " 0   Invoice ID               1000 non-null   object \n",
      " 1   Branch                   1000 non-null   object \n",
      " 2   City                     1000 non-null   object \n",
      " 3   Customer type            1000 non-null   object \n",
      " 4   Gender                   1000 non-null   object \n",
      " 5   Product line             1000 non-null   object \n",
      " 6   Unit price               1000 non-null   float64\n",
      " 7   Quantity                 1000 non-null   int64  \n",
      " 8   Tax 5%                   1000 non-null   float64\n",
      " 9   Total                    1000 non-null   float64\n",
      " 10  Date                     1000 non-null   object \n",
      " 11  Time                     1000 non-null   object \n",
      " 12  Payment                  1000 non-null   object \n",
      " 13  cogs                     1000 non-null   float64\n",
      " 14  gross margin percentage  1000 non-null   float64\n",
      " 15  gross income             1000 non-null   float64\n",
      " 16  Rating                   1000 non-null   float64\n",
      "dtypes: float64(7), int64(1), object(9)\n",
      "memory usage: 132.9+ KB\n"
     ]
    }
   ],
   "source": [
    "#The datatypes we have because based on their types only we can deal with the features\n",
    "\n",
    "supermart.info()"
   ]
  },
  {
   "cell_type": "markdown",
   "id": "baca5784",
   "metadata": {},
   "source": [
    "No missing values found in the dataset.....so we will see if there are any wrong entries present here or not."
   ]
  },
  {
   "cell_type": "code",
   "execution_count": 5,
   "id": "a8696b47",
   "metadata": {},
   "outputs": [
    {
     "data": {
      "text/html": [
       "<div>\n",
       "<style scoped>\n",
       "    .dataframe tbody tr th:only-of-type {\n",
       "        vertical-align: middle;\n",
       "    }\n",
       "\n",
       "    .dataframe tbody tr th {\n",
       "        vertical-align: top;\n",
       "    }\n",
       "\n",
       "    .dataframe thead th {\n",
       "        text-align: right;\n",
       "    }\n",
       "</style>\n",
       "<table border=\"1\" class=\"dataframe\">\n",
       "  <thead>\n",
       "    <tr style=\"text-align: right;\">\n",
       "      <th></th>\n",
       "      <th>Invoice ID</th>\n",
       "      <th>Branch</th>\n",
       "      <th>City</th>\n",
       "      <th>Customer type</th>\n",
       "      <th>Gender</th>\n",
       "      <th>Product line</th>\n",
       "      <th>Unit price</th>\n",
       "      <th>Quantity</th>\n",
       "      <th>Tax 5%</th>\n",
       "      <th>Total</th>\n",
       "      <th>Date</th>\n",
       "      <th>Time</th>\n",
       "      <th>Payment</th>\n",
       "      <th>cogs</th>\n",
       "      <th>gross margin percentage</th>\n",
       "      <th>gross income</th>\n",
       "      <th>Rating</th>\n",
       "    </tr>\n",
       "  </thead>\n",
       "  <tbody>\n",
       "    <tr>\n",
       "      <th>count</th>\n",
       "      <td>1000</td>\n",
       "      <td>1000</td>\n",
       "      <td>1000</td>\n",
       "      <td>1000</td>\n",
       "      <td>1000</td>\n",
       "      <td>1000</td>\n",
       "      <td>1000.000000</td>\n",
       "      <td>1000.000000</td>\n",
       "      <td>1000.000000</td>\n",
       "      <td>1000.000000</td>\n",
       "      <td>1000</td>\n",
       "      <td>1000</td>\n",
       "      <td>1000</td>\n",
       "      <td>1000.00000</td>\n",
       "      <td>1.000000e+03</td>\n",
       "      <td>1000.000000</td>\n",
       "      <td>1000.00000</td>\n",
       "    </tr>\n",
       "    <tr>\n",
       "      <th>unique</th>\n",
       "      <td>1000</td>\n",
       "      <td>3</td>\n",
       "      <td>3</td>\n",
       "      <td>2</td>\n",
       "      <td>2</td>\n",
       "      <td>6</td>\n",
       "      <td>NaN</td>\n",
       "      <td>NaN</td>\n",
       "      <td>NaN</td>\n",
       "      <td>NaN</td>\n",
       "      <td>89</td>\n",
       "      <td>506</td>\n",
       "      <td>3</td>\n",
       "      <td>NaN</td>\n",
       "      <td>NaN</td>\n",
       "      <td>NaN</td>\n",
       "      <td>NaN</td>\n",
       "    </tr>\n",
       "    <tr>\n",
       "      <th>top</th>\n",
       "      <td>778-89-7974</td>\n",
       "      <td>A</td>\n",
       "      <td>Yangon</td>\n",
       "      <td>Member</td>\n",
       "      <td>Female</td>\n",
       "      <td>Fashion accessories</td>\n",
       "      <td>NaN</td>\n",
       "      <td>NaN</td>\n",
       "      <td>NaN</td>\n",
       "      <td>NaN</td>\n",
       "      <td>2/7/2019</td>\n",
       "      <td>14:42</td>\n",
       "      <td>Ewallet</td>\n",
       "      <td>NaN</td>\n",
       "      <td>NaN</td>\n",
       "      <td>NaN</td>\n",
       "      <td>NaN</td>\n",
       "    </tr>\n",
       "    <tr>\n",
       "      <th>freq</th>\n",
       "      <td>1</td>\n",
       "      <td>340</td>\n",
       "      <td>340</td>\n",
       "      <td>501</td>\n",
       "      <td>501</td>\n",
       "      <td>178</td>\n",
       "      <td>NaN</td>\n",
       "      <td>NaN</td>\n",
       "      <td>NaN</td>\n",
       "      <td>NaN</td>\n",
       "      <td>20</td>\n",
       "      <td>7</td>\n",
       "      <td>345</td>\n",
       "      <td>NaN</td>\n",
       "      <td>NaN</td>\n",
       "      <td>NaN</td>\n",
       "      <td>NaN</td>\n",
       "    </tr>\n",
       "    <tr>\n",
       "      <th>mean</th>\n",
       "      <td>NaN</td>\n",
       "      <td>NaN</td>\n",
       "      <td>NaN</td>\n",
       "      <td>NaN</td>\n",
       "      <td>NaN</td>\n",
       "      <td>NaN</td>\n",
       "      <td>55.672130</td>\n",
       "      <td>5.510000</td>\n",
       "      <td>15.379369</td>\n",
       "      <td>322.966749</td>\n",
       "      <td>NaN</td>\n",
       "      <td>NaN</td>\n",
       "      <td>NaN</td>\n",
       "      <td>307.58738</td>\n",
       "      <td>4.761905e+00</td>\n",
       "      <td>15.379369</td>\n",
       "      <td>6.97270</td>\n",
       "    </tr>\n",
       "    <tr>\n",
       "      <th>std</th>\n",
       "      <td>NaN</td>\n",
       "      <td>NaN</td>\n",
       "      <td>NaN</td>\n",
       "      <td>NaN</td>\n",
       "      <td>NaN</td>\n",
       "      <td>NaN</td>\n",
       "      <td>26.494628</td>\n",
       "      <td>2.923431</td>\n",
       "      <td>11.708825</td>\n",
       "      <td>245.885335</td>\n",
       "      <td>NaN</td>\n",
       "      <td>NaN</td>\n",
       "      <td>NaN</td>\n",
       "      <td>234.17651</td>\n",
       "      <td>6.131498e-14</td>\n",
       "      <td>11.708825</td>\n",
       "      <td>1.71858</td>\n",
       "    </tr>\n",
       "    <tr>\n",
       "      <th>min</th>\n",
       "      <td>NaN</td>\n",
       "      <td>NaN</td>\n",
       "      <td>NaN</td>\n",
       "      <td>NaN</td>\n",
       "      <td>NaN</td>\n",
       "      <td>NaN</td>\n",
       "      <td>10.080000</td>\n",
       "      <td>1.000000</td>\n",
       "      <td>0.508500</td>\n",
       "      <td>10.678500</td>\n",
       "      <td>NaN</td>\n",
       "      <td>NaN</td>\n",
       "      <td>NaN</td>\n",
       "      <td>10.17000</td>\n",
       "      <td>4.761905e+00</td>\n",
       "      <td>0.508500</td>\n",
       "      <td>4.00000</td>\n",
       "    </tr>\n",
       "    <tr>\n",
       "      <th>25%</th>\n",
       "      <td>NaN</td>\n",
       "      <td>NaN</td>\n",
       "      <td>NaN</td>\n",
       "      <td>NaN</td>\n",
       "      <td>NaN</td>\n",
       "      <td>NaN</td>\n",
       "      <td>32.875000</td>\n",
       "      <td>3.000000</td>\n",
       "      <td>5.924875</td>\n",
       "      <td>124.422375</td>\n",
       "      <td>NaN</td>\n",
       "      <td>NaN</td>\n",
       "      <td>NaN</td>\n",
       "      <td>118.49750</td>\n",
       "      <td>4.761905e+00</td>\n",
       "      <td>5.924875</td>\n",
       "      <td>5.50000</td>\n",
       "    </tr>\n",
       "    <tr>\n",
       "      <th>50%</th>\n",
       "      <td>NaN</td>\n",
       "      <td>NaN</td>\n",
       "      <td>NaN</td>\n",
       "      <td>NaN</td>\n",
       "      <td>NaN</td>\n",
       "      <td>NaN</td>\n",
       "      <td>55.230000</td>\n",
       "      <td>5.000000</td>\n",
       "      <td>12.088000</td>\n",
       "      <td>253.848000</td>\n",
       "      <td>NaN</td>\n",
       "      <td>NaN</td>\n",
       "      <td>NaN</td>\n",
       "      <td>241.76000</td>\n",
       "      <td>4.761905e+00</td>\n",
       "      <td>12.088000</td>\n",
       "      <td>7.00000</td>\n",
       "    </tr>\n",
       "    <tr>\n",
       "      <th>75%</th>\n",
       "      <td>NaN</td>\n",
       "      <td>NaN</td>\n",
       "      <td>NaN</td>\n",
       "      <td>NaN</td>\n",
       "      <td>NaN</td>\n",
       "      <td>NaN</td>\n",
       "      <td>77.935000</td>\n",
       "      <td>8.000000</td>\n",
       "      <td>22.445250</td>\n",
       "      <td>471.350250</td>\n",
       "      <td>NaN</td>\n",
       "      <td>NaN</td>\n",
       "      <td>NaN</td>\n",
       "      <td>448.90500</td>\n",
       "      <td>4.761905e+00</td>\n",
       "      <td>22.445250</td>\n",
       "      <td>8.50000</td>\n",
       "    </tr>\n",
       "    <tr>\n",
       "      <th>max</th>\n",
       "      <td>NaN</td>\n",
       "      <td>NaN</td>\n",
       "      <td>NaN</td>\n",
       "      <td>NaN</td>\n",
       "      <td>NaN</td>\n",
       "      <td>NaN</td>\n",
       "      <td>99.960000</td>\n",
       "      <td>10.000000</td>\n",
       "      <td>49.650000</td>\n",
       "      <td>1042.650000</td>\n",
       "      <td>NaN</td>\n",
       "      <td>NaN</td>\n",
       "      <td>NaN</td>\n",
       "      <td>993.00000</td>\n",
       "      <td>4.761905e+00</td>\n",
       "      <td>49.650000</td>\n",
       "      <td>10.00000</td>\n",
       "    </tr>\n",
       "  </tbody>\n",
       "</table>\n",
       "</div>"
      ],
      "text/plain": [
       "         Invoice ID Branch    City Customer type  Gender         Product line  \\\n",
       "count          1000   1000    1000          1000    1000                 1000   \n",
       "unique         1000      3       3             2       2                    6   \n",
       "top     778-89-7974      A  Yangon        Member  Female  Fashion accessories   \n",
       "freq              1    340     340           501     501                  178   \n",
       "mean            NaN    NaN     NaN           NaN     NaN                  NaN   \n",
       "std             NaN    NaN     NaN           NaN     NaN                  NaN   \n",
       "min             NaN    NaN     NaN           NaN     NaN                  NaN   \n",
       "25%             NaN    NaN     NaN           NaN     NaN                  NaN   \n",
       "50%             NaN    NaN     NaN           NaN     NaN                  NaN   \n",
       "75%             NaN    NaN     NaN           NaN     NaN                  NaN   \n",
       "max             NaN    NaN     NaN           NaN     NaN                  NaN   \n",
       "\n",
       "         Unit price     Quantity       Tax 5%        Total      Date   Time  \\\n",
       "count   1000.000000  1000.000000  1000.000000  1000.000000      1000   1000   \n",
       "unique          NaN          NaN          NaN          NaN        89    506   \n",
       "top             NaN          NaN          NaN          NaN  2/7/2019  14:42   \n",
       "freq            NaN          NaN          NaN          NaN        20      7   \n",
       "mean      55.672130     5.510000    15.379369   322.966749       NaN    NaN   \n",
       "std       26.494628     2.923431    11.708825   245.885335       NaN    NaN   \n",
       "min       10.080000     1.000000     0.508500    10.678500       NaN    NaN   \n",
       "25%       32.875000     3.000000     5.924875   124.422375       NaN    NaN   \n",
       "50%       55.230000     5.000000    12.088000   253.848000       NaN    NaN   \n",
       "75%       77.935000     8.000000    22.445250   471.350250       NaN    NaN   \n",
       "max       99.960000    10.000000    49.650000  1042.650000       NaN    NaN   \n",
       "\n",
       "        Payment        cogs  gross margin percentage  gross income      Rating  \n",
       "count      1000  1000.00000             1.000000e+03   1000.000000  1000.00000  \n",
       "unique        3         NaN                      NaN           NaN         NaN  \n",
       "top     Ewallet         NaN                      NaN           NaN         NaN  \n",
       "freq        345         NaN                      NaN           NaN         NaN  \n",
       "mean        NaN   307.58738             4.761905e+00     15.379369     6.97270  \n",
       "std         NaN   234.17651             6.131498e-14     11.708825     1.71858  \n",
       "min         NaN    10.17000             4.761905e+00      0.508500     4.00000  \n",
       "25%         NaN   118.49750             4.761905e+00      5.924875     5.50000  \n",
       "50%         NaN   241.76000             4.761905e+00     12.088000     7.00000  \n",
       "75%         NaN   448.90500             4.761905e+00     22.445250     8.50000  \n",
       "max         NaN   993.00000             4.761905e+00     49.650000    10.00000  "
      ]
     },
     "execution_count": 5,
     "metadata": {},
     "output_type": "execute_result"
    }
   ],
   "source": [
    "#getting the 5 point summary to see the measures of central tendency and deviation\n",
    "\n",
    "supermart.describe(include = 'all')"
   ]
  },
  {
   "cell_type": "markdown",
   "id": "1a0048b1",
   "metadata": {},
   "source": [
    "__As we can see the name of other variables are clearly mentioned except on which is cogs. So this cogs is nothing but\n",
    "Cost of Goods sold__."
   ]
  },
  {
   "cell_type": "code",
   "execution_count": 6,
   "id": "b8b831b1",
   "metadata": {},
   "outputs": [
    {
     "data": {
      "text/html": [
       "<div>\n",
       "<style scoped>\n",
       "    .dataframe tbody tr th:only-of-type {\n",
       "        vertical-align: middle;\n",
       "    }\n",
       "\n",
       "    .dataframe tbody tr th {\n",
       "        vertical-align: top;\n",
       "    }\n",
       "\n",
       "    .dataframe thead th {\n",
       "        text-align: right;\n",
       "    }\n",
       "</style>\n",
       "<table border=\"1\" class=\"dataframe\">\n",
       "  <thead>\n",
       "    <tr style=\"text-align: right;\">\n",
       "      <th></th>\n",
       "      <th>Invoice ID</th>\n",
       "      <th>Branch</th>\n",
       "      <th>City</th>\n",
       "      <th>Customer type</th>\n",
       "      <th>Gender</th>\n",
       "      <th>Product line</th>\n",
       "      <th>Unit price</th>\n",
       "      <th>Quantity</th>\n",
       "      <th>Tax 5%</th>\n",
       "      <th>Total</th>\n",
       "      <th>Date</th>\n",
       "      <th>Time</th>\n",
       "      <th>Payment_mode</th>\n",
       "      <th>cost_of_goods_sold</th>\n",
       "      <th>gross margin percentage</th>\n",
       "      <th>gross income</th>\n",
       "      <th>Rating</th>\n",
       "    </tr>\n",
       "  </thead>\n",
       "  <tbody>\n",
       "    <tr>\n",
       "      <th>995</th>\n",
       "      <td>233-67-5758</td>\n",
       "      <td>C</td>\n",
       "      <td>Naypyitaw</td>\n",
       "      <td>Normal</td>\n",
       "      <td>Male</td>\n",
       "      <td>Health and beauty</td>\n",
       "      <td>40.35</td>\n",
       "      <td>1</td>\n",
       "      <td>2.0175</td>\n",
       "      <td>42.3675</td>\n",
       "      <td>1/29/2019</td>\n",
       "      <td>13:46</td>\n",
       "      <td>Ewallet</td>\n",
       "      <td>40.35</td>\n",
       "      <td>4.761905</td>\n",
       "      <td>2.0175</td>\n",
       "      <td>6.2</td>\n",
       "    </tr>\n",
       "    <tr>\n",
       "      <th>996</th>\n",
       "      <td>303-96-2227</td>\n",
       "      <td>B</td>\n",
       "      <td>Mandalay</td>\n",
       "      <td>Normal</td>\n",
       "      <td>Female</td>\n",
       "      <td>Home and lifestyle</td>\n",
       "      <td>97.38</td>\n",
       "      <td>10</td>\n",
       "      <td>48.6900</td>\n",
       "      <td>1022.4900</td>\n",
       "      <td>3/2/2019</td>\n",
       "      <td>17:16</td>\n",
       "      <td>Ewallet</td>\n",
       "      <td>973.80</td>\n",
       "      <td>4.761905</td>\n",
       "      <td>48.6900</td>\n",
       "      <td>4.4</td>\n",
       "    </tr>\n",
       "    <tr>\n",
       "      <th>997</th>\n",
       "      <td>727-02-1313</td>\n",
       "      <td>A</td>\n",
       "      <td>Yangon</td>\n",
       "      <td>Member</td>\n",
       "      <td>Male</td>\n",
       "      <td>Food and beverages</td>\n",
       "      <td>31.84</td>\n",
       "      <td>1</td>\n",
       "      <td>1.5920</td>\n",
       "      <td>33.4320</td>\n",
       "      <td>2/9/2019</td>\n",
       "      <td>13:22</td>\n",
       "      <td>Cash</td>\n",
       "      <td>31.84</td>\n",
       "      <td>4.761905</td>\n",
       "      <td>1.5920</td>\n",
       "      <td>7.7</td>\n",
       "    </tr>\n",
       "    <tr>\n",
       "      <th>998</th>\n",
       "      <td>347-56-2442</td>\n",
       "      <td>A</td>\n",
       "      <td>Yangon</td>\n",
       "      <td>Normal</td>\n",
       "      <td>Male</td>\n",
       "      <td>Home and lifestyle</td>\n",
       "      <td>65.82</td>\n",
       "      <td>1</td>\n",
       "      <td>3.2910</td>\n",
       "      <td>69.1110</td>\n",
       "      <td>2/22/2019</td>\n",
       "      <td>15:33</td>\n",
       "      <td>Cash</td>\n",
       "      <td>65.82</td>\n",
       "      <td>4.761905</td>\n",
       "      <td>3.2910</td>\n",
       "      <td>4.1</td>\n",
       "    </tr>\n",
       "    <tr>\n",
       "      <th>999</th>\n",
       "      <td>849-09-3807</td>\n",
       "      <td>A</td>\n",
       "      <td>Yangon</td>\n",
       "      <td>Member</td>\n",
       "      <td>Female</td>\n",
       "      <td>Fashion accessories</td>\n",
       "      <td>88.34</td>\n",
       "      <td>7</td>\n",
       "      <td>30.9190</td>\n",
       "      <td>649.2990</td>\n",
       "      <td>2/18/2019</td>\n",
       "      <td>13:28</td>\n",
       "      <td>Cash</td>\n",
       "      <td>618.38</td>\n",
       "      <td>4.761905</td>\n",
       "      <td>30.9190</td>\n",
       "      <td>6.6</td>\n",
       "    </tr>\n",
       "  </tbody>\n",
       "</table>\n",
       "</div>"
      ],
      "text/plain": [
       "      Invoice ID Branch       City Customer type  Gender         Product line  \\\n",
       "995  233-67-5758      C  Naypyitaw        Normal    Male    Health and beauty   \n",
       "996  303-96-2227      B   Mandalay        Normal  Female   Home and lifestyle   \n",
       "997  727-02-1313      A     Yangon        Member    Male   Food and beverages   \n",
       "998  347-56-2442      A     Yangon        Normal    Male   Home and lifestyle   \n",
       "999  849-09-3807      A     Yangon        Member  Female  Fashion accessories   \n",
       "\n",
       "     Unit price  Quantity   Tax 5%      Total       Date   Time Payment_mode  \\\n",
       "995       40.35         1   2.0175    42.3675  1/29/2019  13:46      Ewallet   \n",
       "996       97.38        10  48.6900  1022.4900   3/2/2019  17:16      Ewallet   \n",
       "997       31.84         1   1.5920    33.4320   2/9/2019  13:22         Cash   \n",
       "998       65.82         1   3.2910    69.1110  2/22/2019  15:33         Cash   \n",
       "999       88.34         7  30.9190   649.2990  2/18/2019  13:28         Cash   \n",
       "\n",
       "     cost_of_goods_sold  gross margin percentage  gross income  Rating  \n",
       "995               40.35                 4.761905        2.0175     6.2  \n",
       "996              973.80                 4.761905       48.6900     4.4  \n",
       "997               31.84                 4.761905        1.5920     7.7  \n",
       "998               65.82                 4.761905        3.2910     4.1  \n",
       "999              618.38                 4.761905       30.9190     6.6  "
      ]
     },
     "execution_count": 6,
     "metadata": {},
     "output_type": "execute_result"
    }
   ],
   "source": [
    "#so we can change its name \n",
    "\n",
    "supermart.rename(columns= {'cogs': 'cost_of_goods_sold', 'Payment': 'Payment_mode'}, inplace = True)\n",
    "supermart.tail()"
   ]
  },
  {
   "cell_type": "code",
   "execution_count": 7,
   "id": "0d3eb2fd",
   "metadata": {},
   "outputs": [
    {
     "data": {
      "text/plain": [
       "array(['Health and beauty', 'Electronic accessories',\n",
       "       'Home and lifestyle', 'Sports and travel', 'Food and beverages',\n",
       "       'Fashion accessories'], dtype=object)"
      ]
     },
     "execution_count": 7,
     "metadata": {},
     "output_type": "execute_result"
    }
   ],
   "source": [
    "supermart['Product line'].unique()"
   ]
  },
  {
   "cell_type": "code",
   "execution_count": 8,
   "id": "53eb6036",
   "metadata": {},
   "outputs": [
    {
     "data": {
      "text/plain": [
       "array(['Yangon', 'Naypyitaw', 'Mandalay'], dtype=object)"
      ]
     },
     "execution_count": 8,
     "metadata": {},
     "output_type": "execute_result"
    }
   ],
   "source": [
    "supermart['City'].unique()"
   ]
  },
  {
   "cell_type": "code",
   "execution_count": 9,
   "id": "a0522340",
   "metadata": {},
   "outputs": [
    {
     "data": {
      "text/plain": [
       "Invoice ID                 1000\n",
       "Branch                        3\n",
       "City                          3\n",
       "Customer type                 2\n",
       "Gender                        2\n",
       "Product line                  6\n",
       "Unit price                  943\n",
       "Quantity                     10\n",
       "Tax 5%                      990\n",
       "Total                       990\n",
       "Date                         89\n",
       "Time                        506\n",
       "Payment_mode                  3\n",
       "cost_of_goods_sold          990\n",
       "gross margin percentage       1\n",
       "gross income                990\n",
       "Rating                       61\n",
       "dtype: int64"
      ]
     },
     "execution_count": 9,
     "metadata": {},
     "output_type": "execute_result"
    }
   ],
   "source": [
    "supermart.nunique()"
   ]
  },
  {
   "cell_type": "code",
   "execution_count": 10,
   "id": "7311bfbc",
   "metadata": {},
   "outputs": [
    {
     "data": {
      "text/plain": [
       "array(['Ewallet', 'Cash', 'Credit card'], dtype=object)"
      ]
     },
     "execution_count": 10,
     "metadata": {},
     "output_type": "execute_result"
    }
   ],
   "source": [
    "supermart['Payment_mode'].unique()"
   ]
  },
  {
   "cell_type": "code",
   "execution_count": 11,
   "id": "e07ebd00",
   "metadata": {},
   "outputs": [
    {
     "data": {
      "text/plain": [
       "array([74.69, 15.28, 46.33, 58.22, 86.31, 85.39, 68.84, 73.56, 36.26,\n",
       "       54.84, 14.48, 25.51, 46.95, 43.19, 71.38, 93.72, 68.93, 72.61,\n",
       "       54.67, 40.3 , 86.04, 87.98, 33.2 , 34.56, 88.63, 52.59, 33.52,\n",
       "       87.67, 88.36, 24.89, 94.13, 78.07, 83.78, 96.58, 99.42, 68.12,\n",
       "       62.62, 60.88, 54.92, 30.12, 86.72, 56.11, 69.12, 98.7 , 15.37,\n",
       "       93.96, 56.69, 20.01, 18.93, 82.63, 91.4 , 44.59, 17.87, 15.43,\n",
       "       16.16, 85.98, 44.34, 89.6 , 72.35, 30.61, 24.74, 55.73, 55.07,\n",
       "       15.81, 75.74, 15.87, 33.47, 97.61, 78.77, 18.33, 89.48, 62.12,\n",
       "       48.52, 75.91, 74.67, 41.65, 49.04, 78.31, 20.38, 99.19, 96.68,\n",
       "       19.25, 80.36, 48.91, 83.06, 76.52, 49.38, 42.47, 76.99, 47.38,\n",
       "       44.86, 21.98, 64.36, 89.75, 97.16, 87.87, 12.45, 52.75, 82.7 ,\n",
       "       48.71, 78.55, 23.07, 58.26, 30.35, 88.67, 27.38, 62.13, 33.98,\n",
       "       81.97, 16.49, 98.21, 72.84, 58.07, 80.79, 27.02, 21.94, 51.36,\n",
       "       10.96, 53.44, 99.56, 57.12, 99.96, 63.91, 56.47, 93.69, 32.25,\n",
       "       31.73, 68.54, 90.28, 39.62, 92.13, 34.84, 87.45, 81.3 , 90.22,\n",
       "       26.31, 34.42, 51.91, 72.5 , 89.8 , 90.5 , 68.6 , 30.41, 77.95,\n",
       "       46.26, 30.14, 66.14, 71.86, 32.46, 91.54, 83.24, 16.48, 80.97,\n",
       "       92.29, 72.17, 50.28, 97.22, 93.39, 43.18, 63.69, 45.79, 76.4 ,\n",
       "       39.9 , 42.57, 95.58, 98.98, 51.28, 69.52, 70.01, 80.05, 20.85,\n",
       "       52.89, 19.79, 33.84, 22.17, 22.51, 73.88, 86.8 , 64.26, 38.47,\n",
       "       15.5 , 34.31, 12.34, 18.08, 94.49, 46.47, 74.07, 69.81, 77.04,\n",
       "       73.52, 87.8 , 25.55, 32.71, 74.29, 43.7 , 25.29, 41.5 , 71.39,\n",
       "       19.15, 57.49, 61.41, 25.9 , 17.77, 23.03, 66.65, 28.53, 30.37,\n",
       "       99.73, 26.23, 93.26, 92.36, 46.42, 29.61, 18.28, 24.77, 94.64,\n",
       "       94.87, 57.34, 45.35, 62.08, 11.81, 12.54, 43.25, 87.16, 69.37,\n",
       "       37.06, 90.7 , 63.42, 81.37, 10.59, 84.09, 73.82, 51.94, 93.14,\n",
       "       17.41, 44.22, 13.22, 89.69, 24.94, 59.77, 93.2 , 62.65, 93.87,\n",
       "       47.59, 81.4 , 17.94, 77.72, 73.06, 46.55, 35.19, 14.39, 23.75,\n",
       "       58.9 , 32.62, 66.35, 25.91, 65.94, 75.06, 16.45, 38.3 , 22.24,\n",
       "       54.45, 98.4 , 35.47, 74.6 , 70.74, 35.54, 67.43, 21.12, 21.54,\n",
       "       12.03, 99.71, 47.97, 21.82, 95.42, 70.99, 44.02, 69.96, 37.  ,\n",
       "       15.34, 99.83, 47.67, 66.68, 74.86, 48.51, 94.88, 27.85, 62.48,\n",
       "       36.36, 18.11, 51.92, 28.84, 78.38, 60.01, 88.61, 99.82, 39.01,\n",
       "       48.61, 51.19, 14.96, 72.2 , 40.23, 88.79, 26.48, 81.91, 79.93,\n",
       "       69.33, 14.23, 15.55, 78.13, 99.37, 21.08, 74.79, 29.67, 44.07,\n",
       "       22.93, 39.42, 15.26, 61.77, 21.52, 97.74, 99.78, 94.26, 51.13,\n",
       "       22.02, 32.9 , 77.02, 23.48, 14.7 , 28.45, 57.95, 47.65, 42.82,\n",
       "       48.09, 55.97, 76.9 , 97.03, 44.65, 77.93, 71.95, 89.25, 26.02,\n",
       "       13.5 , 99.3 , 51.69, 54.73, 27.  , 30.24, 89.14, 37.55, 95.44,\n",
       "       27.5 , 74.97, 80.96, 94.47, 99.79, 73.22, 41.24, 81.68, 51.32,\n",
       "       14.36, 21.5 , 26.26, 60.96, 70.11, 42.08, 67.09, 96.7 , 35.38,\n",
       "       95.49, 96.98, 23.65, 82.33, 26.61, 99.69, 74.89, 40.94, 75.82,\n",
       "       46.77, 32.32, 54.07, 18.22, 80.48, 37.95, 76.82, 52.26, 79.74,\n",
       "       77.5 , 54.27, 13.59, 41.06, 19.24, 39.43, 46.22, 13.98, 39.75,\n",
       "       97.79, 67.26, 13.79, 68.71, 56.53, 23.82, 34.21, 21.87, 20.97,\n",
       "       25.84, 50.93, 96.11, 45.38, 81.51, 57.22, 25.22, 38.6 , 84.05,\n",
       "       97.21, 25.42, 16.28, 40.61, 53.17, 20.87, 67.27, 90.65, 69.08,\n",
       "       43.27, 23.46, 95.54, 47.44, 99.24, 82.93, 33.99, 17.04, 40.86,\n",
       "       17.44, 88.43, 89.21, 12.78, 19.1 , 27.66, 45.74, 27.07, 39.12,\n",
       "       74.71, 22.01, 63.61, 25.  , 20.77, 29.56, 77.4 , 79.39, 46.57,\n",
       "       35.89, 40.52, 73.05, 73.95, 22.62, 51.34, 54.55, 37.15, 37.02,\n",
       "       21.58, 98.84, 83.77, 40.05, 43.13, 72.57, 64.44, 65.18, 33.26,\n",
       "       84.07, 34.37, 65.97, 32.8 , 37.14, 60.38, 36.98, 49.49, 41.09,\n",
       "       22.96, 77.68, 34.7 , 19.66, 25.32, 12.12, 99.89, 75.92, 63.22,\n",
       "       90.24, 98.13, 51.52, 73.97, 31.9 , 69.4 , 93.31, 88.45, 24.18,\n",
       "       48.5 , 61.29, 15.95, 90.74, 42.91, 54.28, 99.55, 58.39, 51.47,\n",
       "       54.86, 39.39, 34.73, 71.92, 45.71, 83.17, 37.44, 62.87, 81.71,\n",
       "       91.41, 39.21, 59.86, 54.36, 98.09, 25.43, 86.68, 22.95, 16.31,\n",
       "       28.32, 16.67, 73.96, 97.94, 87.48, 30.68, 75.88, 20.18, 18.77,\n",
       "       71.2 , 38.81, 29.42, 60.95, 51.54, 66.06, 57.27, 54.31, 58.24,\n",
       "       22.21, 19.32, 37.48, 72.04, 98.52, 41.66, 72.42, 89.2 , 42.42,\n",
       "       74.51, 99.25, 81.21, 49.33, 65.74, 79.86, 73.98, 82.04, 26.67,\n",
       "       10.13, 72.39, 85.91, 81.31, 60.3 , 31.77, 64.27, 69.51, 27.22,\n",
       "       92.98, 63.06, 51.71, 52.34, 43.06, 59.61, 14.62, 46.53, 24.24,\n",
       "       45.58, 75.2 , 96.8 , 14.82, 52.2 , 46.66, 36.85, 70.32, 83.08,\n",
       "       64.99, 77.56, 54.51, 51.89, 31.75, 53.65, 49.79, 57.89, 28.96,\n",
       "       98.97, 93.22, 80.93, 67.45, 38.72, 72.6 , 87.91, 98.53, 43.46,\n",
       "       71.68, 91.61, 94.59, 83.25, 91.35, 78.88, 60.87, 82.58, 53.3 ,\n",
       "       12.09, 64.19, 99.7 , 79.91, 66.47, 28.95, 46.2 , 17.63, 52.42,\n",
       "       98.79, 88.55, 55.67, 72.52, 12.05, 19.36, 70.21, 33.63, 15.49,\n",
       "       75.66, 55.81, 72.78, 37.32, 60.18, 15.69, 88.15, 27.93, 55.45,\n",
       "       42.97, 17.14, 58.75, 87.1 , 98.8 , 48.63, 57.74, 17.97, 47.71,\n",
       "       40.62, 56.04, 93.4 , 73.41, 33.64, 45.48, 64.08, 73.47, 58.95,\n",
       "       39.48, 34.81, 49.32, 21.48, 23.08, 49.1 , 64.83, 63.56, 72.88,\n",
       "       67.1 , 70.19, 55.04, 73.38, 52.6 , 87.37, 27.04, 62.19, 69.58,\n",
       "       97.5 , 60.41, 19.77, 80.47, 88.39, 71.77, 43.  , 68.98, 15.62,\n",
       "       25.7 , 80.62, 75.53, 77.63, 13.85, 35.68, 71.46, 11.94, 17.48,\n",
       "       25.56, 90.63, 44.12, 36.77, 23.34, 28.5 , 55.57, 69.74, 97.26,\n",
       "       52.18, 22.32, 56.  , 19.7 , 53.72, 81.95, 81.2 , 58.76, 91.56,\n",
       "       55.61, 84.83, 71.63, 37.69, 31.67, 38.42, 65.23, 10.53, 12.29,\n",
       "       81.23, 27.28, 17.42, 73.28, 84.87, 97.29, 35.74, 96.52, 18.85,\n",
       "       55.39, 77.2 , 72.13, 63.88, 10.69, 55.5 , 95.46, 76.06, 13.69,\n",
       "       95.64, 11.43, 85.87, 67.99, 65.65, 28.86, 65.31, 93.38, 25.25,\n",
       "       21.8 , 94.76, 30.62, 44.01, 10.16, 74.58, 71.89, 10.99, 60.47,\n",
       "       58.91, 46.41, 68.55, 97.37, 92.6 , 46.61, 27.18, 24.49, 92.78,\n",
       "       86.69, 23.01, 30.2 , 67.39, 48.96, 75.59, 77.47, 93.18, 50.23,\n",
       "       17.75, 62.18, 10.75, 40.26, 64.97, 95.15, 48.62, 53.21, 45.44,\n",
       "       33.88, 96.16, 47.16, 47.68, 10.17, 60.08, 72.11, 41.28, 64.95,\n",
       "       74.22, 10.56, 62.57, 11.85, 91.3 , 40.73, 52.38, 38.54, 44.63,\n",
       "       55.87, 29.22, 39.47, 14.87, 21.32, 93.78, 73.26, 22.38, 99.1 ,\n",
       "       74.1 , 98.48, 53.19, 52.79, 95.95, 36.51, 28.31, 57.59, 47.63,\n",
       "       86.27, 12.76, 11.28, 51.07, 79.59, 33.81, 90.53, 62.82, 24.31,\n",
       "       64.59, 24.82, 56.5 , 21.43, 89.06, 23.29, 65.26, 52.35, 90.02,\n",
       "       12.1 , 33.21, 10.18, 31.99, 83.34, 87.9 , 12.19, 76.92, 83.66,\n",
       "       57.91, 92.49, 28.38, 50.45, 99.16, 60.74, 47.27, 85.6 , 35.04,\n",
       "       44.84, 45.97, 27.73, 11.53, 58.32, 84.61, 82.88, 79.54, 49.01,\n",
       "       29.15, 56.13, 93.12, 99.6 , 35.49, 42.85, 94.67, 68.97, 35.79,\n",
       "       16.37, 12.73, 83.14, 35.22, 13.78, 88.31, 88.25, 25.31, 99.92,\n",
       "       83.35, 74.44, 63.15, 85.72, 78.89, 92.09, 57.29, 66.52, 45.68,\n",
       "       50.79, 10.08, 93.88, 84.25, 53.78, 35.81, 26.43, 39.91, 21.9 ,\n",
       "       62.85, 21.04, 65.91, 50.49, 46.02, 15.8 , 98.66, 91.98, 20.89,\n",
       "       96.82, 33.33, 38.27, 33.3 , 81.01, 34.49, 84.63, 36.91, 87.08,\n",
       "       80.08, 86.13, 49.92, 74.66, 26.6 , 25.45, 67.77, 59.59, 58.15,\n",
       "       97.48, 96.37, 63.71, 14.76, 62.  , 82.34, 75.37, 56.56, 76.6 ,\n",
       "       58.03, 17.49, 40.35, 97.38, 31.84, 65.82, 88.34])"
      ]
     },
     "execution_count": 11,
     "metadata": {},
     "output_type": "execute_result"
    }
   ],
   "source": [
    "supermart['Unit price'].unique()"
   ]
  },
  {
   "cell_type": "code",
   "execution_count": null,
   "id": "dd7b71d6",
   "metadata": {},
   "outputs": [],
   "source": []
  },
  {
   "cell_type": "code",
   "execution_count": 12,
   "id": "326a8dfb",
   "metadata": {},
   "outputs": [
    {
     "data": {
      "text/plain": [
       "array([ 7,  5,  8,  6, 10,  2,  3,  4,  1,  9], dtype=int64)"
      ]
     },
     "execution_count": 12,
     "metadata": {},
     "output_type": "execute_result"
    }
   ],
   "source": [
    "supermart['Quantity'].unique()"
   ]
  },
  {
   "cell_type": "code",
   "execution_count": 13,
   "id": "b3900a86",
   "metadata": {},
   "outputs": [
    {
     "data": {
      "text/plain": [
       "array([ 548.9715,   80.22  ,  340.5255,  489.048 ,  634.3785,  627.6165,\n",
       "        433.692 ,  772.38  ,   76.146 ,  172.746 ,   60.816 ,  107.142 ,\n",
       "        246.4875,  453.495 ,  749.49  ,  590.436 ,  506.6355,  457.443 ,\n",
       "        172.2105,   84.63  ,  451.71  ,  277.137 ,   69.72  ,  181.44  ,\n",
       "        279.1845,  441.756 ,   35.196 ,  184.107 ,  463.89  ,  235.2105,\n",
       "        494.1825,  737.7615,  703.752 ,  202.818 ,  417.564 ,   71.526 ,\n",
       "        328.755 ,  575.316 ,  461.328 ,  253.008 ,   91.056 ,  117.831 ,\n",
       "        435.456 ,  829.08  ,   32.277 ,  394.632 ,  535.7205,  189.0945,\n",
       "        119.259 ,  867.615 ,  671.79  ,  234.0975,   75.054 ,   16.2015,\n",
       "         33.936 ,  722.232 ,   93.114 ,  752.64  ,  759.675 ,  192.843 ,\n",
       "         77.931 ,  351.099 ,  520.4115,  166.005 ,  318.108 ,  166.635 ,\n",
       "         70.287 ,  614.943 ,  827.085 ,   19.2465,  939.54  ,  652.26  ,\n",
       "        152.838 ,  478.233 ,  705.6315,  437.325 ,  463.428 ,  822.255 ,\n",
       "        106.995 ,  624.897 ,  304.542 ,  161.7   ,  337.512 ,  256.7775,\n",
       "        610.491 ,  401.73  ,  362.943 ,   44.5935,  485.037 ,  198.996 ,\n",
       "        471.03  ,  161.553 ,  608.202 ,   94.2375,  102.018 ,  922.635 ,\n",
       "         78.435 ,  166.1625,  521.01  ,   51.1455,  742.2975,  218.0115,\n",
       "        367.038 ,  223.0725,  931.035 ,  172.494 ,  391.419 ,  321.111 ,\n",
       "        860.685 ,   34.629 ,  309.3615,  535.374 ,  548.7615,  763.4655,\n",
       "         85.113 ,  115.185 ,   53.928 ,  115.08  ,  112.224 ,  836.304 ,\n",
       "        419.832 ,  944.622 ,  536.844 ,  474.348 ,  688.6215,  169.3125,\n",
       "        299.8485,  575.736 ,  853.146 ,  291.207 ,  580.419 ,  146.328 ,\n",
       "        550.935 ,  512.19  ,  284.193 ,  138.1275,  216.846 ,  545.055 ,\n",
       "        609.    ,  942.9   ,  950.25  ,  720.3   ,   31.9305,  491.085 ,\n",
       "        291.438 ,  316.47  ,  277.788 ,  603.624 ,  272.664 ,  384.468 ,\n",
       "        254.016 ,  786.618 ,  103.824 ,  680.148 ,  484.5225,   75.7785,\n",
       "        263.97  ,  918.729 ,  588.357 ,  362.712 ,   66.8745,  336.5565,\n",
       "        160.44  ,  418.95  ,  357.588 , 1003.59  , 1039.29  ,  323.064 ,\n",
       "        510.972 ,  367.5525,  420.2625,  175.14  ,  333.207 ,  166.236 ,\n",
       "        319.788 ,  186.228 ,  165.4485,  465.444 ,  273.42  ,  472.311 ,\n",
       "        323.148 ,  162.75  ,  288.204 ,   90.699 ,   56.952 ,  793.716 ,\n",
       "        195.174 ,   77.7735,  293.202 ,  242.676 ,  154.392 ,  829.71  ,\n",
       "        107.31  ,  171.7275,   78.0045,   91.77  ,   26.5545,  174.3   ,\n",
       "        374.7975,  120.645 ,  241.458 ,  451.3635,  271.95  ,   93.2925,\n",
       "        217.6335,  629.8425,  299.565 ,   95.6655,  942.4485,  247.8735,\n",
       "        881.307 ,  484.89  ,  146.223 ,   19.194 ,  130.0425,  298.116 ,\n",
       "        796.908 ,  180.621 ,  285.705 ,  456.288 ,   62.0025,   13.167 ,\n",
       "         90.825 ,  183.036 ,  655.5465,  155.652 ,  571.41  ,  532.728 ,\n",
       "        170.877 ,   33.3585,  794.6505,  310.044 ,  545.37  ,  195.594 ,\n",
       "         91.4025,  232.155 ,   69.405 ,   94.1745,  235.683 ,  125.517 ,\n",
       "        195.72  ,  263.13  ,  788.508 ,  399.756 ,  256.41  ,   94.185 ,\n",
       "        326.424 ,  536.991 ,  439.8975,  369.495 ,   30.219 ,   99.75  ,\n",
       "        494.76  ,  137.004 ,   69.6675,  163.233 ,  135.45  ,  276.948 ,\n",
       "        709.317 ,   69.09  ,  160.86  ,  233.52  ,   57.1725,  723.24  ,\n",
       "        148.974 ,  783.3   ,  297.108 ,  373.17  ,  354.0075,   44.352 ,\n",
       "        203.553 ,   25.263 ,  628.173 ,  352.5795,  229.11  ,  400.764 ,\n",
       "        745.395 ,  462.21  ,  587.664 ,   38.85  ,   16.107 ,  628.929 ,\n",
       "        200.214 ,  350.07  ,   78.603 ,  224.4375,  356.5485,  697.368 ,\n",
       "        423.15  ,  204.6975,   65.604 ,   76.356 ,  190.155 ,  272.58  ,\n",
       "        121.128 ,  493.794 ,  252.042 ,   93.0405,  209.622 ,   40.9605,\n",
       "         51.0405,  214.998 ,  125.664 ,  530.67  ,  295.6905,  745.836 ,\n",
       "         83.412 ,  172.011 ,  503.559 ,  145.593 ,   74.7075,  146.9475,\n",
       "        820.365 ,  208.677 ,   66.402 ,  392.6475,  218.0745,  185.094 ,\n",
       "        216.6885,   41.391 ,   96.138 ,  324.2925,  135.576 ,  410.508 ,\n",
       "        523.845 ,  395.892 ,  214.746 ,  152.712 ,  208.089 ,  103.635 ,\n",
       "        404.355 ,   49.308 ,   77.175 ,  149.3625,  721.98  ,  365.085 ,\n",
       "        150.0975,  404.649 ,  151.4835,  411.3795,  565.215 ,  509.4075,\n",
       "        140.6475,  736.4385,   75.5475,  749.7   ,  191.247 ,  141.75  ,\n",
       "       1042.65  ,  379.9215,  402.2655,  255.15  ,   31.752 ,  374.388 ,\n",
       "        394.275 , 1002.12  ,   86.625 ,   78.7185,  680.064 ,  793.548 ,\n",
       "        209.559 ,  461.286 ,  173.208 ,  343.056 ,  484.974 ,  150.78  ,\n",
       "        203.175 ,  193.011 ,  128.016 ,  441.693 ,  265.104 ,  352.2225,\n",
       "        507.675 ,  334.341 ,  701.8515,  407.316 ,   99.33  ,  345.786 ,\n",
       "         55.881 ,  523.3725,  314.538 ,  214.935 ,   79.611 ,  294.651 ,\n",
       "        339.36  ,  510.9615,  133.917 ,  253.512 ,  398.475 ,   80.661 ,\n",
       "        548.73  ,   83.727 ,  406.875 ,  284.9175,  128.4255,  258.678 ,\n",
       "        181.818 ,  248.409 ,  194.124 ,   14.679 ,  208.6875,  718.7565,\n",
       "        282.492 ,   72.3975,  288.582 ,  237.426 ,  125.055 ,  359.205 ,\n",
       "         45.927 ,  110.0925,   81.396 ,  427.812 ,  100.9155,  190.596 ,\n",
       "         85.5855,  120.162 ,  185.367 ,  121.59  ,  264.7575, 1020.705 ,\n",
       "        213.528 ,   17.094 ,  383.7645,  390.7995,   65.7405,  353.1675,\n",
       "        951.825 ,  145.068 ,   90.867 ,  147.798 ,  702.219 ,   49.812 ,\n",
       "        937.818 ,  348.306 ,  214.137 ,   71.568 ,  343.224 ,   91.56  ,\n",
       "        742.812 ,  843.0345,   13.419 ,  140.385 ,   20.1075,  290.43  ,\n",
       "        144.081 ,   28.4235,   41.076 ,  470.673 ,  138.663 ,  333.9525,\n",
       "         26.25  ,   87.234 ,  155.19  ,  731.43  ,  833.595 ,  488.985 ,\n",
       "         37.6845,  212.73  ,  767.025 ,  310.59  ,   23.751 ,  269.535 ,\n",
       "        572.775 ,  273.0525,  233.226 ,   22.659 ,  103.782 ,  527.751 ,\n",
       "        168.21  ,  452.865 ,  609.588 ,  338.31  ,  205.317 ,  174.615 ,\n",
       "        353.094 ,  360.885 ,   40.53  ,  554.148 ,  344.4   ,  194.985 ,\n",
       "        633.99  ,  388.29  ,  207.858 ,  431.445 ,  156.03  ,   24.108 ,\n",
       "        734.076 ,   72.87  ,  206.43  ,  212.688 ,  127.26  ,  209.769 ,\n",
       "        637.728 ,  132.762 ,  568.512 ,  103.0365,  432.768 ,   77.6685,\n",
       "         33.495 ,  145.74  ,  195.951 ,   92.8725,  203.112 ,  152.775 ,\n",
       "        529.515 ,  321.7725,  100.485 ,  666.939 ,  225.2775,  398.958 ,\n",
       "        731.6925,  429.1665,   54.0435,  288.015 ,  206.7975,   72.933 ,\n",
       "        377.58  ,  143.9865,  523.971 ,  235.872 ,  132.027 ,  514.773 ,\n",
       "        479.9025,  164.682 ,  125.706 ,  570.78  ,  926.9505,  160.209 ,\n",
       "        728.112 ,  240.975 ,  154.1295,  148.68  ,  122.5245,   77.658 ,\n",
       "        102.837 ,  306.81  ,  551.124 ,   96.642 ,   79.674 ,   84.756 ,\n",
       "        118.251 ,   74.76  ,  163.002 ,  308.91  ,  575.9775,  270.585 ,\n",
       "        416.178 ,  180.4005,  513.2295,  550.368 ,  139.923 ,  142.002 ,\n",
       "        118.062 ,  151.284 , 1034.46  ,  262.458 ,  228.123 ,  203.931 ,\n",
       "        936.6   ,  356.328 ,  469.413 ,  208.425 ,  852.705 ,  517.965 ,\n",
       "        621.243 ,  586.971 ,  543.753 ,  430.71  ,  280.035 ,   74.4555,\n",
       "        152.019 ,  451.0275,  597.6285,  253.26  ,  133.434 ,  269.934 ,\n",
       "        145.971 ,   85.743 ,  326.256 ,  195.258 ,   75.936 ,  198.639 ,\n",
       "        217.182 ,  164.871 ,  226.065 ,  625.905 ,   76.755 ,  293.139 ,\n",
       "        178.164 ,   47.859 ,  236.88  ,  304.92  ,   46.683 ,  164.43  ,\n",
       "        440.937 ,  193.4625,  147.672 ,   68.2395,  814.38  ,  343.413 ,\n",
       "        381.3915,  133.35  ,  394.3275,  209.118 ,   32.1405,  121.569 ,\n",
       "         30.408 ,  935.2665,  293.643 ,   84.9765,  708.225 ,  365.904 ,\n",
       "        457.38  ,  461.5275,  620.739 ,  273.798 ,  225.792 ,   96.1905,\n",
       "        695.2365,  874.125 ,   95.9175,  165.648 ,  127.827 ,  867.09  ,\n",
       "        167.895 ,   12.6945,  673.995 ,  246.6765,  175.917 ,  314.055 ,\n",
       "        251.7165,  697.935 ,  212.7825,   48.51  ,   92.5575,  165.123 ,\n",
       "        311.1885,  743.82  ,  116.907 ,  609.168 ,   63.2625,  182.952 ,\n",
       "        442.323 ,   35.3115,   32.529 ,  259.77  ,  397.215 ,  351.603 ,\n",
       "        764.19  ,  352.674 ,  252.756 ,   49.4235,  104.6745,  277.6725,\n",
       "        146.6325,   58.2225,  135.3555,  125.979 ,  370.125 ,  914.55  ,\n",
       "        207.48  ,  204.246 ,  181.881 ,   75.474 ,  300.573 ,   85.302 ,\n",
       "        588.42  ,  196.14  ,  231.2415,  282.576 ,  477.54  ,  470.988 ,\n",
       "        308.574 ,  618.975 ,  305.55  ,   41.454 ,   36.5505,  310.716 ,\n",
       "         45.108 ,  145.404 ,  103.11  ,  136.143 ,  667.38  ,  153.048 ,\n",
       "        211.365 ,  663.2955,  404.544 ,  510.615 ,  539.343 ,  497.07  ,\n",
       "        458.6925,  113.568 ,  261.198 ,  657.531 , 1023.75  ,  507.444 ,\n",
       "        101.808 ,  207.585 ,  760.4415,  835.2855,  527.5095,  180.6   ,\n",
       "         72.429 ,  131.208 ,   80.955 ,  507.906 ,  317.226 ,  733.6035,\n",
       "        130.8825,  187.32  ,  525.231 ,   37.611 ,  142.947 ,  110.124 ,\n",
       "        187.866 ,  856.4535,  138.978 ,  270.2595,   98.028 ,  239.4   ,\n",
       "        175.0455,  732.27  ,  408.492 ,  383.523 ,   93.744 ,  176.4   ,\n",
       "         20.685 ,  557.718 ,   56.406 ,  860.475 ,  596.82  ,  616.98  ,\n",
       "        769.104 ,  887.922 ,  408.7335,   89.0715,  150.423 ,   79.149 ,\n",
       "        266.028 ,   40.341 ,  684.915 ,   55.2825,  116.1405,  597.0405,\n",
       "        143.22  ,  182.91  ,  384.72  ,  267.3405,  817.236 ,  300.216 ,\n",
       "        608.076 ,  197.925 ,  232.638 ,  810.6   ,  757.365 ,  536.592 ,\n",
       "         56.1225,  233.1   ,  801.864 ,  239.589 ,   86.247 ,  401.688 ,\n",
       "         72.009 ,  401.268 ,  631.1445,  499.7265,   55.041 ,  137.865 ,\n",
       "        151.515 ,  480.0285,   98.049 ,  132.5625,  830.3715,  183.12  ,\n",
       "        397.992 ,   32.151 ,  369.684 ,   53.34  ,  548.163 ,  603.876 ,\n",
       "         57.6975,  190.4805,  432.9885,   48.7305,  287.91  , 1022.385 ,\n",
       "        680.61  ,   97.881 ,   57.078 ,   63.9135,  257.145 ,   97.419 ,\n",
       "        455.1225,  144.963 ,  253.68  ,  495.3165,  462.672 ,  714.3255,\n",
       "        325.374 ,  195.678 ,  210.966 ,   18.6375,  652.89  ,   90.3   ,\n",
       "        422.73  ,  341.0925,   99.9075,  408.408 ,  446.964 ,  333.984 ,\n",
       "        284.592 ,  403.872 ,  247.59  ,  222.138 ,  100.128 ,   10.6785,\n",
       "        216.4365,  441.588 ,   92.442 ,  681.4395,  130.032 ,  681.975 ,\n",
       "        779.31  ,   88.704 ,  262.794 ,   99.54  ,   95.865 ,  299.3655,\n",
       "         54.999 ,  202.335 ,  281.169 ,  586.635 ,  184.086 ,  163.611 ,\n",
       "         63.315 ,   82.887 ,   31.227 ,   22.386 ,  295.407 ,   76.923 ,\n",
       "         23.499 ,  688.716 ,  624.33  ,   77.805 ,  206.808 ,  390.9465,\n",
       "        554.295 ,  503.7375,  345.0195,  177.408 ,  118.902 ,  362.817 ,\n",
       "        450.1035,   90.5835,   26.796 ,  106.596 ,  375.3645,  250.7085,\n",
       "        106.5015,  760.452 ,  131.922 ,   76.5765,  271.278 ,  182.427 ,\n",
       "         59.325 ,  225.015 ,  561.078 ,   97.818 ,  548.184 ,   54.9675,\n",
       "         41.7375,  756.168 ,  101.64  ,  348.705 ,   85.512 ,  335.895 ,\n",
       "        175.014 ,  335.013 ,   92.295 ,  771.435 ,  102.396 ,  807.66  ,\n",
       "        439.215 ,  486.444 ,  485.5725,  148.995 ,  317.835 ,  832.944 ,\n",
       "        446.439 ,  297.801 ,  629.16  ,  331.128 ,  423.738 ,  193.074 ,\n",
       "        145.5825,   84.7455,  122.472 ,  329.196 ,  888.405 ,  435.12  ,\n",
       "        167.034 ,  514.605 ,   91.8225,  235.746 ,  782.208 ,  431.256 ,\n",
       "        313.74  ,  223.587 ,   44.9925,  397.614 ,  217.2555,   82.719 ,\n",
       "        338.2155,  103.131 ,   26.733 ,  611.079 ,  221.886 ,   57.876 ,\n",
       "         92.7255,  374.409 ,  833.9625,   53.151 ,  629.496 ,  175.035 ,\n",
       "        781.62  ,  397.845 ,  270.018 ,  579.8415,  469.77  ,  290.0835,\n",
       "        360.927 ,  279.384 ,  943.299 ,  479.64  ,  266.6475,   74.088 ,\n",
       "        690.018 ,  176.925 ,   56.469 ,  188.0025,  222.012 ,  125.7165,\n",
       "         68.985 ,   88.368 ,  415.233 ,  312.8895,  477.1305,  289.926 ,\n",
       "        165.9   ,  932.337 ,   96.579 ,   43.869 ,   16.275 ,  304.983 ,\n",
       "         69.993 ,   80.367 ,  314.685 ,  255.1815,   49.77  ,  181.0725,\n",
       "        888.615 ,  271.2885,  640.038 ,  252.252 ,  180.873 ,  104.832 ,\n",
       "        313.572 ,  167.58  ,   26.7225,   71.1585,  250.278 ,  244.23  ,\n",
       "        921.186 ,  734.706 ,  708.3195,  334.4775,   30.996 ,  520.8   ,\n",
       "        864.57  ,  633.108 ,  296.94  ,  804.3   ,  121.863 ,  183.645 ,\n",
       "         63.9975,   42.3675, 1022.49  ,   33.432 ,   69.111 ,  649.299 ])"
      ]
     },
     "execution_count": 13,
     "metadata": {},
     "output_type": "execute_result"
    }
   ],
   "source": [
    "supermart['Total'].unique()"
   ]
  },
  {
   "cell_type": "markdown",
   "id": "9243c2e1",
   "metadata": {},
   "source": [
    "So by checking the important columns for errenous values we are certain now that we don't have wrong entries in our data."
   ]
  },
  {
   "cell_type": "markdown",
   "id": "4bd0b538",
   "metadata": {},
   "source": [
    "# Removing Unnecessary feaures "
   ]
  },
  {
   "cell_type": "code",
   "execution_count": 14,
   "id": "f20dee35",
   "metadata": {},
   "outputs": [
    {
     "data": {
      "text/html": [
       "<div>\n",
       "<style scoped>\n",
       "    .dataframe tbody tr th:only-of-type {\n",
       "        vertical-align: middle;\n",
       "    }\n",
       "\n",
       "    .dataframe tbody tr th {\n",
       "        vertical-align: top;\n",
       "    }\n",
       "\n",
       "    .dataframe thead th {\n",
       "        text-align: right;\n",
       "    }\n",
       "</style>\n",
       "<table border=\"1\" class=\"dataframe\">\n",
       "  <thead>\n",
       "    <tr style=\"text-align: right;\">\n",
       "      <th></th>\n",
       "      <th>Branch</th>\n",
       "      <th>City</th>\n",
       "      <th>Customer type</th>\n",
       "      <th>Gender</th>\n",
       "      <th>Product line</th>\n",
       "      <th>Unit price</th>\n",
       "      <th>Quantity</th>\n",
       "      <th>Tax 5%</th>\n",
       "      <th>Total</th>\n",
       "      <th>Date</th>\n",
       "      <th>Time</th>\n",
       "      <th>Payment_mode</th>\n",
       "      <th>cost_of_goods_sold</th>\n",
       "      <th>gross margin percentage</th>\n",
       "      <th>gross income</th>\n",
       "      <th>Rating</th>\n",
       "    </tr>\n",
       "  </thead>\n",
       "  <tbody>\n",
       "    <tr>\n",
       "      <th>0</th>\n",
       "      <td>A</td>\n",
       "      <td>Yangon</td>\n",
       "      <td>Member</td>\n",
       "      <td>Female</td>\n",
       "      <td>Health and beauty</td>\n",
       "      <td>74.69</td>\n",
       "      <td>7</td>\n",
       "      <td>26.1415</td>\n",
       "      <td>548.9715</td>\n",
       "      <td>1/5/2019</td>\n",
       "      <td>13:08</td>\n",
       "      <td>Ewallet</td>\n",
       "      <td>522.83</td>\n",
       "      <td>4.761905</td>\n",
       "      <td>26.1415</td>\n",
       "      <td>9.1</td>\n",
       "    </tr>\n",
       "  </tbody>\n",
       "</table>\n",
       "</div>"
      ],
      "text/plain": [
       "  Branch    City Customer type  Gender       Product line  Unit price  \\\n",
       "0      A  Yangon        Member  Female  Health and beauty       74.69   \n",
       "\n",
       "   Quantity   Tax 5%     Total      Date   Time Payment_mode  \\\n",
       "0         7  26.1415  548.9715  1/5/2019  13:08      Ewallet   \n",
       "\n",
       "   cost_of_goods_sold  gross margin percentage  gross income  Rating  \n",
       "0              522.83                 4.761905       26.1415     9.1  "
      ]
     },
     "execution_count": 14,
     "metadata": {},
     "output_type": "execute_result"
    }
   ],
   "source": [
    "#dropping the id column as it is not giving us any information\n",
    "\n",
    "supermart.drop(columns= ['Invoice ID'], axis = 0,inplace = True)\n",
    "supermart.head(1)\n"
   ]
  },
  {
   "cell_type": "markdown",
   "id": "12b53434",
   "metadata": {},
   "source": [
    "# Popularity of supermarket in Gender wise"
   ]
  },
  {
   "cell_type": "markdown",
   "id": "626d75c2",
   "metadata": {},
   "source": [
    "__Talking about distribution it seems that the distribution of gender is equal here.__"
   ]
  },
  {
   "cell_type": "code",
   "execution_count": 15,
   "id": "a13fef52",
   "metadata": {},
   "outputs": [
    {
     "data": {
      "text/plain": [
       "Female    501\n",
       "Male      499\n",
       "Name: Gender, dtype: int64"
      ]
     },
     "execution_count": 15,
     "metadata": {},
     "output_type": "execute_result"
    }
   ],
   "source": [
    "supermart['Gender'].value_counts()  #females 2 more than males"
   ]
  },
  {
   "cell_type": "code",
   "execution_count": 16,
   "id": "cc1d64c2",
   "metadata": {},
   "outputs": [
    {
     "name": "stderr",
     "output_type": "stream",
     "text": [
      "C:\\Users\\Bakul anmol\\anaconda3\\lib\\site-packages\\seaborn\\_decorators.py:36: FutureWarning: Pass the following variable as a keyword arg: x. From version 0.12, the only valid positional argument will be `data`, and passing other arguments without an explicit keyword will result in an error or misinterpretation.\n",
      "  warnings.warn(\n"
     ]
    },
    {
     "data": {
      "text/plain": [
       "<AxesSubplot:xlabel='Gender', ylabel='count'>"
      ]
     },
     "execution_count": 16,
     "metadata": {},
     "output_type": "execute_result"
    },
    {
     "data": {
      "image/png": "[encoded data removed]",
      "text/plain": [
       "<Figure size 432x288 with 1 Axes>"
      ]
     },
     "metadata": {
      "needs_background": "light"
     },
     "output_type": "display_data"
    }
   ],
   "source": [
    "sns.countplot(supermart.Gender)"
   ]
  },
  {
   "cell_type": "code",
   "execution_count": 17,
   "id": "6ce00b02",
   "metadata": {},
   "outputs": [
    {
     "data": {
      "text/plain": [
       "<AxesSubplot:xlabel='Gender', ylabel='Rating'>"
      ]
     },
     "execution_count": 17,
     "metadata": {},
     "output_type": "execute_result"
    },
    {
     "data": {
      "image/png": "[encoded data removed]",
      "text/plain": [
       "<Figure size 432x288 with 1 Axes>"
      ]
     },
     "metadata": {
      "needs_background": "light"
     },
     "output_type": "display_data"
    }
   ],
   "source": [
    "sns.boxplot(x = 'Gender', y ='Rating', data = supermart)"
   ]
  },
  {
   "cell_type": "markdown",
   "id": "39abb3e8",
   "metadata": {},
   "source": [
    "# Superstore is more famous among females, difference is marginal though."
   ]
  },
  {
   "cell_type": "markdown",
   "id": "3029dfc8",
   "metadata": {},
   "source": [
    "__Now let's look at the rating distribution of supermarket__"
   ]
  },
  {
   "cell_type": "code",
   "execution_count": 18,
   "id": "95ef7ebe",
   "metadata": {},
   "outputs": [
    {
     "name": "stderr",
     "output_type": "stream",
     "text": [
      "C:\\Users\\Bakul anmol\\anaconda3\\lib\\site-packages\\seaborn\\distributions.py:2557: FutureWarning: `distplot` is a deprecated function and will be removed in a future version. Please adapt your code to use either `displot` (a figure-level function with similar flexibility) or `histplot` (an axes-level function for histograms).\n",
      "  warnings.warn(msg, FutureWarning)\n"
     ]
    },
    {
     "data": {
      "text/plain": [
       "<matplotlib.lines.Line2D at 0x213298d5be0>"
      ]
     },
     "execution_count": 18,
     "metadata": {},
     "output_type": "execute_result"
    },
    {
     "data": {
      "image/png": "[encoded data removed]",
      "text/plain": [
       "<Figure size 432x288 with 1 Axes>"
      ]
     },
     "metadata": {
      "needs_background": "light"
     },
     "output_type": "display_data"
    }
   ],
   "source": [
    "sns.distplot(supermart.Rating)\n",
    "plt.axvline(x = supermart.Rating.mean(), color = 'black', alpha = 0.8, label = 'Mean')\n",
    "plt.axvline(x = supermart.Rating.median(), color = 'red', ls = '--' ,alpha = 0.8, label = 'Median')"
   ]
  },
  {
   "cell_type": "markdown",
   "id": "27e28d10",
   "metadata": {},
   "source": [
    "The distribution of this feature is __Normal__."
   ]
  },
  {
   "cell_type": "code",
   "execution_count": 19,
   "id": "ad4b8e90",
   "metadata": {},
   "outputs": [
    {
     "data": {
      "text/plain": [
       "0.00900964876573073"
      ]
     },
     "execution_count": 19,
     "metadata": {},
     "output_type": "execute_result"
    }
   ],
   "source": [
    "supermart['Rating'].skew()"
   ]
  },
  {
   "cell_type": "markdown",
   "id": "dee55e64",
   "metadata": {},
   "source": [
    "__Aggregate sales across the branches__"
   ]
  },
  {
   "cell_type": "code",
   "execution_count": 20,
   "id": "4d2387ed",
   "metadata": {},
   "outputs": [],
   "source": [
    "A = supermart[(supermart['Branch']== \"A\")]\n",
    "a_agg = A['cost_of_goods_sold'].aggregate(['min', 'max','sum'])"
   ]
  },
  {
   "cell_type": "code",
   "execution_count": 21,
   "id": "3e930b8f",
   "metadata": {},
   "outputs": [],
   "source": [
    "B = supermart[(supermart['Branch']== \"B\")]\n",
    "b_agg = B['cost_of_goods_sold'].aggregate(['min', 'max','sum'])"
   ]
  },
  {
   "cell_type": "code",
   "execution_count": 22,
   "id": "0cbbb514",
   "metadata": {},
   "outputs": [],
   "source": [
    "C = supermart[(supermart['Branch']== \"C\")]\n",
    "c_agg = C['cost_of_goods_sold'].aggregate(['min', 'max', 'sum'])"
   ]
  },
  {
   "cell_type": "code",
   "execution_count": 23,
   "id": "8b604b7a",
   "metadata": {},
   "outputs": [
    {
     "data": {
      "text/html": [
       "<div>\n",
       "<style scoped>\n",
       "    .dataframe tbody tr th:only-of-type {\n",
       "        vertical-align: middle;\n",
       "    }\n",
       "\n",
       "    .dataframe tbody tr th {\n",
       "        vertical-align: top;\n",
       "    }\n",
       "\n",
       "    .dataframe thead th {\n",
       "        text-align: right;\n",
       "    }\n",
       "</style>\n",
       "<table border=\"1\" class=\"dataframe\">\n",
       "  <thead>\n",
       "    <tr style=\"text-align: right;\">\n",
       "      <th></th>\n",
       "      <th>A</th>\n",
       "      <th>B</th>\n",
       "      <th>C</th>\n",
       "    </tr>\n",
       "  </thead>\n",
       "  <tbody>\n",
       "    <tr>\n",
       "      <th>min</th>\n",
       "      <td>12.09</td>\n",
       "      <td>17.75</td>\n",
       "      <td>10.17</td>\n",
       "    </tr>\n",
       "    <tr>\n",
       "      <th>max</th>\n",
       "      <td>989.80</td>\n",
       "      <td>973.80</td>\n",
       "      <td>993.00</td>\n",
       "    </tr>\n",
       "    <tr>\n",
       "      <th>sum</th>\n",
       "      <td>101143.21</td>\n",
       "      <td>101140.64</td>\n",
       "      <td>105303.53</td>\n",
       "    </tr>\n",
       "  </tbody>\n",
       "</table>\n",
       "</div>"
      ],
      "text/plain": [
       "             A          B          C\n",
       "min      12.09      17.75      10.17\n",
       "max     989.80     973.80     993.00\n",
       "sum  101143.21  101140.64  105303.53"
      ]
     },
     "execution_count": 23,
     "metadata": {},
     "output_type": "execute_result"
    }
   ],
   "source": [
    "agregates = {'A': a_agg, 'B': b_agg, 'C': c_agg}\n",
    "pd.DataFrame(agregates)"
   ]
  },
  {
   "cell_type": "code",
   "execution_count": 24,
   "id": "e3d5425f",
   "metadata": {},
   "outputs": [],
   "source": [
    "a = supermart[(supermart['Branch']== \"A\")]\n",
    "aa_agg = A['Total'].aggregate(['min', 'max','sum'])\n",
    "b = supermart[(supermart['Branch']== \"A\")]\n",
    "bb_agg = A['Total'].aggregate(['min', 'max','sum'])\n",
    "c = supermart[(supermart['Branch']== \"A\")]\n",
    "cc_agg = A['Total'].aggregate(['min', 'max','sum'])"
   ]
  },
  {
   "cell_type": "code",
   "execution_count": 25,
   "id": "383cbfef",
   "metadata": {},
   "outputs": [
    {
     "data": {
      "text/html": [
       "<div>\n",
       "<style scoped>\n",
       "    .dataframe tbody tr th:only-of-type {\n",
       "        vertical-align: middle;\n",
       "    }\n",
       "\n",
       "    .dataframe tbody tr th {\n",
       "        vertical-align: top;\n",
       "    }\n",
       "\n",
       "    .dataframe thead th {\n",
       "        text-align: right;\n",
       "    }\n",
       "</style>\n",
       "<table border=\"1\" class=\"dataframe\">\n",
       "  <thead>\n",
       "    <tr style=\"text-align: right;\">\n",
       "      <th></th>\n",
       "      <th>A</th>\n",
       "      <th>B</th>\n",
       "      <th>C</th>\n",
       "    </tr>\n",
       "  </thead>\n",
       "  <tbody>\n",
       "    <tr>\n",
       "      <th>min</th>\n",
       "      <td>12.09</td>\n",
       "      <td>17.75</td>\n",
       "      <td>10.17</td>\n",
       "    </tr>\n",
       "    <tr>\n",
       "      <th>max</th>\n",
       "      <td>989.80</td>\n",
       "      <td>973.80</td>\n",
       "      <td>993.00</td>\n",
       "    </tr>\n",
       "    <tr>\n",
       "      <th>sum</th>\n",
       "      <td>101143.21</td>\n",
       "      <td>101140.64</td>\n",
       "      <td>105303.53</td>\n",
       "    </tr>\n",
       "  </tbody>\n",
       "</table>\n",
       "</div>"
      ],
      "text/plain": [
       "             A          B          C\n",
       "min      12.09      17.75      10.17\n",
       "max     989.80     973.80     993.00\n",
       "sum  101143.21  101140.64  105303.53"
      ]
     },
     "execution_count": 25,
     "metadata": {},
     "output_type": "execute_result"
    }
   ],
   "source": [
    "Agregates = {'A': a_agg, 'B': b_agg, 'C': c_agg}\n",
    "pd.DataFrame(Agregates)"
   ]
  },
  {
   "cell_type": "markdown",
   "id": "113dc30a",
   "metadata": {},
   "source": [
    "__Alternative method__"
   ]
  },
  {
   "cell_type": "code",
   "execution_count": 26,
   "id": "89b10ebf",
   "metadata": {},
   "outputs": [
    {
     "data": {
      "text/html": [
       "<div>\n",
       "<style scoped>\n",
       "    .dataframe tbody tr th:only-of-type {\n",
       "        vertical-align: middle;\n",
       "    }\n",
       "\n",
       "    .dataframe tbody tr th {\n",
       "        vertical-align: top;\n",
       "    }\n",
       "\n",
       "    .dataframe thead th {\n",
       "        text-align: right;\n",
       "    }\n",
       "</style>\n",
       "<table border=\"1\" class=\"dataframe\">\n",
       "  <thead>\n",
       "    <tr style=\"text-align: right;\">\n",
       "      <th></th>\n",
       "      <th>max</th>\n",
       "      <th>min</th>\n",
       "      <th>sum</th>\n",
       "    </tr>\n",
       "    <tr>\n",
       "      <th>Branch</th>\n",
       "      <th></th>\n",
       "      <th></th>\n",
       "      <th></th>\n",
       "    </tr>\n",
       "  </thead>\n",
       "  <tbody>\n",
       "    <tr>\n",
       "      <th>C</th>\n",
       "      <td>1042.65</td>\n",
       "      <td>10.6785</td>\n",
       "      <td>110568.7065</td>\n",
       "    </tr>\n",
       "    <tr>\n",
       "      <th>A</th>\n",
       "      <td>1039.29</td>\n",
       "      <td>12.6945</td>\n",
       "      <td>106200.3705</td>\n",
       "    </tr>\n",
       "    <tr>\n",
       "      <th>B</th>\n",
       "      <td>1022.49</td>\n",
       "      <td>18.6375</td>\n",
       "      <td>106197.6720</td>\n",
       "    </tr>\n",
       "  </tbody>\n",
       "</table>\n",
       "</div>"
      ],
      "text/plain": [
       "            max      min          sum\n",
       "Branch                               \n",
       "C       1042.65  10.6785  110568.7065\n",
       "A       1039.29  12.6945  106200.3705\n",
       "B       1022.49  18.6375  106197.6720"
      ]
     },
     "execution_count": 26,
     "metadata": {},
     "output_type": "execute_result"
    }
   ],
   "source": [
    "supermart.groupby('Branch')['Total'].aggregate(['max','min','sum']).sort_values(by = 'sum', ascending = False)        "
   ]
  },
  {
   "cell_type": "markdown",
   "id": "09fc6578",
   "metadata": {},
   "source": [
    "So as we can see above branch __C__ is performing well among the 3 branches in terms of __sum,min,max__.\n",
    "like it is the branch witnessing minimum sales and it recieving maximum sales also.....\n",
    "\n",
    "__One interesting thing here to observe is the difference between the minimum and the maximum sales values__.\n"
   ]
  },
  {
   "cell_type": "code",
   "execution_count": 27,
   "id": "cd6f080a",
   "metadata": {},
   "outputs": [
    {
     "data": {
      "text/plain": [
       "count     332.000000\n",
       "mean      319.872506\n",
       "std       242.447565\n",
       "min        18.637500\n",
       "25%       119.936250\n",
       "50%       252.882000\n",
       "75%       465.585750\n",
       "max      1022.490000\n",
       "Name: Total, dtype: float64"
      ]
     },
     "execution_count": 27,
     "metadata": {},
     "output_type": "execute_result"
    }
   ],
   "source": [
    "B_data = supermart[(supermart['Branch'] == 'B')]\n",
    "B_data['Total'].describe()"
   ]
  },
  {
   "cell_type": "markdown",
   "id": "778e5db3",
   "metadata": {},
   "source": [
    "# Popular payment method"
   ]
  },
  {
   "cell_type": "code",
   "execution_count": 28,
   "id": "e08a2cc1",
   "metadata": {},
   "outputs": [
    {
     "name": "stderr",
     "output_type": "stream",
     "text": [
      "C:\\Users\\Bakul anmol\\anaconda3\\lib\\site-packages\\seaborn\\_decorators.py:36: FutureWarning: Pass the following variable as a keyword arg: x. From version 0.12, the only valid positional argument will be `data`, and passing other arguments without an explicit keyword will result in an error or misinterpretation.\n",
      "  warnings.warn(\n"
     ]
    },
    {
     "data": {
      "text/plain": [
       "<AxesSubplot:xlabel='Payment_mode', ylabel='count'>"
      ]
     },
     "execution_count": 28,
     "metadata": {},
     "output_type": "execute_result"
    },
    {
     "data": {
      "image/png": "[encoded data removed]",
      "text/plain": [
       "<Figure size 432x288 with 1 Axes>"
      ]
     },
     "metadata": {
      "needs_background": "light"
     },
     "output_type": "display_data"
    }
   ],
   "source": [
    "sns.countplot(supermart.Payment_mode)"
   ]
  },
  {
   "cell_type": "code",
   "execution_count": 29,
   "id": "4ba7a2f4",
   "metadata": {},
   "outputs": [
    {
     "data": {
      "text/plain": [
       "<AxesSubplot:xlabel='Payment_mode', ylabel='Total'>"
      ]
     },
     "execution_count": 29,
     "metadata": {},
     "output_type": "execute_result"
    },
    {
     "data": {
      "image/png": "[encoded data removed]",
      "text/plain": [
       "<Figure size 432x288 with 1 Axes>"
      ]
     },
     "metadata": {
      "needs_background": "light"
     },
     "output_type": "display_data"
    }
   ],
   "source": [
    "figsize = (15,20)\n",
    "sns.boxplot(x = 'Payment_mode', y = 'Total', hue = 'Branch', data = supermart)"
   ]
  },
  {
   "cell_type": "code",
   "execution_count": 30,
   "id": "b8b13e5d",
   "metadata": {},
   "outputs": [
    {
     "data": {
      "text/html": [
       "<div>\n",
       "<style scoped>\n",
       "    .dataframe tbody tr th:only-of-type {\n",
       "        vertical-align: middle;\n",
       "    }\n",
       "\n",
       "    .dataframe tbody tr th {\n",
       "        vertical-align: top;\n",
       "    }\n",
       "\n",
       "    .dataframe thead th {\n",
       "        text-align: right;\n",
       "    }\n",
       "</style>\n",
       "<table border=\"1\" class=\"dataframe\">\n",
       "  <thead>\n",
       "    <tr style=\"text-align: right;\">\n",
       "      <th></th>\n",
       "      <th>max</th>\n",
       "      <th>min</th>\n",
       "      <th>sum</th>\n",
       "    </tr>\n",
       "    <tr>\n",
       "      <th>Payment_mode</th>\n",
       "      <th></th>\n",
       "      <th></th>\n",
       "      <th></th>\n",
       "    </tr>\n",
       "  </thead>\n",
       "  <tbody>\n",
       "    <tr>\n",
       "      <th>Cash</th>\n",
       "      <td>1003.59</td>\n",
       "      <td>10.6785</td>\n",
       "      <td>112206.570</td>\n",
       "    </tr>\n",
       "    <tr>\n",
       "      <th>Ewallet</th>\n",
       "      <td>1034.46</td>\n",
       "      <td>13.4190</td>\n",
       "      <td>109993.107</td>\n",
       "    </tr>\n",
       "    <tr>\n",
       "      <th>Credit card</th>\n",
       "      <td>1042.65</td>\n",
       "      <td>12.6945</td>\n",
       "      <td>100767.072</td>\n",
       "    </tr>\n",
       "  </tbody>\n",
       "</table>\n",
       "</div>"
      ],
      "text/plain": [
       "                  max      min         sum\n",
       "Payment_mode                              \n",
       "Cash          1003.59  10.6785  112206.570\n",
       "Ewallet       1034.46  13.4190  109993.107\n",
       "Credit card   1042.65  12.6945  100767.072"
      ]
     },
     "execution_count": 30,
     "metadata": {},
     "output_type": "execute_result"
    }
   ],
   "source": [
    "supermart.groupby('Payment_mode')['Total'].aggregate(['max','min','sum']).sort_values(by = 'sum', ascending = False)        "
   ]
  },
  {
   "cell_type": "code",
   "execution_count": 31,
   "id": "c22ea2f0",
   "metadata": {},
   "outputs": [
    {
     "data": {
      "text/plain": [
       "<AxesSubplot:ylabel='Total'>"
      ]
     },
     "execution_count": 31,
     "metadata": {},
     "output_type": "execute_result"
    },
    {
     "data": {
      "image/png": "[encoded data removed]",
      "text/plain": [
       "<Figure size 432x288 with 1 Axes>"
      ]
     },
     "metadata": {},
     "output_type": "display_data"
    }
   ],
   "source": [
    "supermart.groupby(['Payment_mode']).sum().plot(kind='pie', y='Total',autopct='%1.0f%%')"
   ]
  },
  {
   "cell_type": "markdown",
   "id": "d64e1400",
   "metadata": {},
   "source": [
    "__Cash is the most popular payment method among customers__."
   ]
  },
  {
   "cell_type": "markdown",
   "id": "2d6e04fd",
   "metadata": {},
   "source": [
    "# Gross Income effect on customer Ratings"
   ]
  },
  {
   "cell_type": "code",
   "execution_count": 35,
   "id": "5728114c",
   "metadata": {},
   "outputs": [
    {
     "data": {
      "text/plain": [
       "<AxesSubplot:xlabel='gross income', ylabel='Rating'>"
      ]
     },
     "execution_count": 35,
     "metadata": {},
     "output_type": "execute_result"
    },
    {
     "data": {
      "image/png": "[encoded data removed]",
      "text/plain": [
       "<Figure size 432x288 with 1 Axes>"
      ]
     },
     "metadata": {
      "needs_background": "light"
     },
     "output_type": "display_data"
    }
   ],
   "source": [
    "sns.regplot(x = 'gross income', y = 'Rating', data = supermart)"
   ]
  },
  {
   "cell_type": "code",
   "execution_count": 33,
   "id": "cce855b6",
   "metadata": {},
   "outputs": [
    {
     "data": {
      "text/html": [
       "<div>\n",
       "<style scoped>\n",
       "    .dataframe tbody tr th:only-of-type {\n",
       "        vertical-align: middle;\n",
       "    }\n",
       "\n",
       "    .dataframe tbody tr th {\n",
       "        vertical-align: top;\n",
       "    }\n",
       "\n",
       "    .dataframe thead th {\n",
       "        text-align: right;\n",
       "    }\n",
       "</style>\n",
       "<table border=\"1\" class=\"dataframe\">\n",
       "  <thead>\n",
       "    <tr style=\"text-align: right;\">\n",
       "      <th></th>\n",
       "      <th>Branch</th>\n",
       "      <th>City</th>\n",
       "      <th>Customer type</th>\n",
       "      <th>Gender</th>\n",
       "      <th>Product line</th>\n",
       "      <th>Unit price</th>\n",
       "      <th>Quantity</th>\n",
       "      <th>Tax 5%</th>\n",
       "      <th>Total</th>\n",
       "      <th>Date</th>\n",
       "      <th>Time</th>\n",
       "      <th>Payment_mode</th>\n",
       "      <th>cost_of_goods_sold</th>\n",
       "      <th>gross margin percentage</th>\n",
       "      <th>gross income</th>\n",
       "      <th>Rating</th>\n",
       "    </tr>\n",
       "  </thead>\n",
       "  <tbody>\n",
       "    <tr>\n",
       "      <th>0</th>\n",
       "      <td>A</td>\n",
       "      <td>Yangon</td>\n",
       "      <td>Member</td>\n",
       "      <td>Female</td>\n",
       "      <td>Health and beauty</td>\n",
       "      <td>74.69</td>\n",
       "      <td>7</td>\n",
       "      <td>26.1415</td>\n",
       "      <td>548.9715</td>\n",
       "      <td>1/5/2019</td>\n",
       "      <td>13:08</td>\n",
       "      <td>Ewallet</td>\n",
       "      <td>522.83</td>\n",
       "      <td>4.761905</td>\n",
       "      <td>26.1415</td>\n",
       "      <td>9.1</td>\n",
       "    </tr>\n",
       "  </tbody>\n",
       "</table>\n",
       "</div>"
      ],
      "text/plain": [
       "  Branch    City Customer type  Gender       Product line  Unit price  \\\n",
       "0      A  Yangon        Member  Female  Health and beauty       74.69   \n",
       "\n",
       "   Quantity   Tax 5%     Total      Date   Time Payment_mode  \\\n",
       "0         7  26.1415  548.9715  1/5/2019  13:08      Ewallet   \n",
       "\n",
       "   cost_of_goods_sold  gross margin percentage  gross income  Rating  \n",
       "0              522.83                 4.761905       26.1415     9.1  "
      ]
     },
     "execution_count": 33,
     "metadata": {},
     "output_type": "execute_result"
    }
   ],
   "source": [
    "supermart.head(1)"
   ]
  },
  {
   "cell_type": "code",
   "execution_count": 45,
   "id": "d9b91183",
   "metadata": {},
   "outputs": [],
   "source": [
    "supermart.rename(columns = {'gross income': 'Gross_income'}, inplace = True)\n",
    "\n"
   ]
  },
  {
   "cell_type": "code",
   "execution_count": 52,
   "id": "d7b252f5",
   "metadata": {},
   "outputs": [
    {
     "data": {
      "text/plain": [
       "<matplotlib.lines.Line2D at 0x2132cab9f10>"
      ]
     },
     "execution_count": 52,
     "metadata": {},
     "output_type": "execute_result"
    },
    {
     "data": {
      "image/png": "[encoded data removed]",
      "text/plain": [
       "<Figure size 432x288 with 1 Axes>"
      ]
     },
     "metadata": {
      "needs_background": "light"
     },
     "output_type": "display_data"
    }
   ],
   "source": [
    "sns.histplot(supermart.Gross_income)\n",
    "plt.axvline(x = supermart.Gross_income.mean(), color = 'black', alpha = 0.8, label = 'Mean')\n",
    "plt.axvline(x = supermart.Gross_income.median(), color = 'red', ls = '--' ,alpha = 0.8, label = 'Median')"
   ]
  },
  {
   "cell_type": "code",
   "execution_count": 53,
   "id": "9ed288c9",
   "metadata": {},
   "outputs": [
    {
     "name": "stderr",
     "output_type": "stream",
     "text": [
      "C:\\Users\\Bakul anmol\\anaconda3\\lib\\site-packages\\seaborn\\_decorators.py:36: FutureWarning: Pass the following variable as a keyword arg: x. From version 0.12, the only valid positional argument will be `data`, and passing other arguments without an explicit keyword will result in an error or misinterpretation.\n",
      "  warnings.warn(\n"
     ]
    },
    {
     "data": {
      "text/plain": [
       "<AxesSubplot:xlabel='Gross_income'>"
      ]
     },
     "execution_count": 53,
     "metadata": {},
     "output_type": "execute_result"
    },
    {
     "data": {
      "image/png": "[encoded data removed]",
      "text/plain": [
       "<Figure size 432x288 with 1 Axes>"
      ]
     },
     "metadata": {
      "needs_background": "light"
     },
     "output_type": "display_data"
    }
   ],
   "source": [
    "sns.boxplot(supermart.Gross_income)"
   ]
  },
  {
   "cell_type": "code",
   "execution_count": null,
   "id": "e283bcaf",
   "metadata": {},
   "outputs": [],
   "source": []
  }
 ],
 "metadata": {
  "kernelspec": {
   "display_name": "Python 3",
   "language": "python",
   "name": "python3"
  },
  "language_info": {
   "codemirror_mode": {
    "name": "ipython",
    "version": 3
   },
   "file_extension": ".py",
   "mimetype": "text/x-python",
   "name": "python",
   "nbconvert_exporter": "python",
   "pygments_lexer": "ipython3",
   "version": "3.8.8"
  }
 },
 "nbformat": 4,
 "nbformat_minor": 5
}
